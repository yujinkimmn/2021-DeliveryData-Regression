{
 "cells": [
  {
   "cell_type": "markdown",
   "metadata": {},
   "source": [
    "# Naive Bayes"
   ]
  },
  {
   "cell_type": "code",
   "execution_count": 1,
   "metadata": {},
   "outputs": [],
   "source": [
    "from sklearn import datasets"
   ]
  },
  {
   "cell_type": "code",
   "execution_count": 2,
   "metadata": {},
   "outputs": [],
   "source": [
    "iris = datasets.load_iris()"
   ]
  },
  {
   "cell_type": "code",
   "execution_count": 3,
   "metadata": {},
   "outputs": [
    {
     "data": {
      "text/plain": [
       "['sepal length (cm)',\n",
       " 'sepal width (cm)',\n",
       " 'petal length (cm)',\n",
       " 'petal width (cm)']"
      ]
     },
     "execution_count": 3,
     "metadata": {},
     "output_type": "execute_result"
    }
   ],
   "source": [
    "iris.feature_names"
   ]
  },
  {
   "cell_type": "code",
   "execution_count": 4,
   "metadata": {},
   "outputs": [
    {
     "data": {
      "text/plain": [
       "array(['setosa', 'versicolor', 'virginica'], dtype='<U10')"
      ]
     },
     "execution_count": 4,
     "metadata": {},
     "output_type": "execute_result"
    }
   ],
   "source": [
    "iris.target_names"
   ]
  },
  {
   "cell_type": "code",
   "execution_count": 5,
   "metadata": {},
   "outputs": [
    {
     "data": {
      "text/plain": [
       "(150, 4)"
      ]
     },
     "execution_count": 5,
     "metadata": {},
     "output_type": "execute_result"
    }
   ],
   "source": [
    "iris.data.shape"
   ]
  },
  {
   "cell_type": "code",
   "execution_count": 6,
   "metadata": {},
   "outputs": [
    {
     "data": {
      "text/plain": [
       "(150,)"
      ]
     },
     "execution_count": 6,
     "metadata": {},
     "output_type": "execute_result"
    }
   ],
   "source": [
    "iris.target.shape"
   ]
  },
  {
   "cell_type": "code",
   "execution_count": 7,
   "metadata": {},
   "outputs": [
    {
     "data": {
      "text/plain": [
       "array([[5.1, 3.5, 1.4, 0.2],\n",
       "       [4.9, 3. , 1.4, 0.2],\n",
       "       [4.7, 3.2, 1.3, 0.2],\n",
       "       [4.6, 3.1, 1.5, 0.2],\n",
       "       [5. , 3.6, 1.4, 0.2]])"
      ]
     },
     "execution_count": 7,
     "metadata": {},
     "output_type": "execute_result"
    }
   ],
   "source": [
    "iris.data[:5,]"
   ]
  },
  {
   "cell_type": "code",
   "execution_count": 8,
   "metadata": {},
   "outputs": [
    {
     "data": {
      "text/plain": [
       "array([0, 0, 0, 0, 0])"
      ]
     },
     "execution_count": 8,
     "metadata": {},
     "output_type": "execute_result"
    }
   ],
   "source": [
    "iris.target[:5,]"
   ]
  },
  {
   "cell_type": "code",
   "execution_count": 9,
   "metadata": {},
   "outputs": [],
   "source": [
    "from sklearn.model_selection import train_test_split"
   ]
  },
  {
   "cell_type": "code",
   "execution_count": 10,
   "metadata": {},
   "outputs": [],
   "source": [
    "X_train, X_test, y_train, y_test = train_test_split(iris.data, \n",
    "                                                    iris.target, \n",
    "                                                    test_size=0.3)"
   ]
  },
  {
   "cell_type": "code",
   "execution_count": 11,
   "metadata": {},
   "outputs": [
    {
     "data": {
      "text/plain": [
       "(105, 4)"
      ]
     },
     "execution_count": 11,
     "metadata": {},
     "output_type": "execute_result"
    }
   ],
   "source": [
    "X_train.shape"
   ]
  },
  {
   "cell_type": "code",
   "execution_count": 12,
   "metadata": {},
   "outputs": [
    {
     "data": {
      "text/plain": [
       "(45, 4)"
      ]
     },
     "execution_count": 12,
     "metadata": {},
     "output_type": "execute_result"
    }
   ],
   "source": [
    "X_test.shape"
   ]
  },
  {
   "cell_type": "code",
   "execution_count": 13,
   "metadata": {},
   "outputs": [],
   "source": [
    "from sklearn.naive_bayes import GaussianNB"
   ]
  },
  {
   "cell_type": "code",
   "execution_count": 14,
   "metadata": {},
   "outputs": [],
   "source": [
    "gnb = GaussianNB()"
   ]
  },
  {
   "cell_type": "code",
   "execution_count": 15,
   "metadata": {},
   "outputs": [
    {
     "data": {
      "text/plain": [
       "GaussianNB()"
      ]
     },
     "execution_count": 15,
     "metadata": {},
     "output_type": "execute_result"
    }
   ],
   "source": [
    "gnb.fit(X_train, y_train)"
   ]
  },
  {
   "cell_type": "code",
   "execution_count": 16,
   "metadata": {},
   "outputs": [],
   "source": [
    "y_pred = gnb.predict(X_test)"
   ]
  },
  {
   "cell_type": "code",
   "execution_count": 17,
   "metadata": {},
   "outputs": [
    {
     "data": {
      "text/plain": [
       "array([1, 2, 1, 2, 0, 2, 1, 1, 0, 1, 1, 0, 0, 2, 1, 0, 2, 2, 0, 1, 2, 2,\n",
       "       1, 0, 0, 1, 1, 0, 1, 0, 2, 0, 2, 1, 2, 1, 0, 2, 1, 0, 0, 1, 0, 1,\n",
       "       2])"
      ]
     },
     "execution_count": 17,
     "metadata": {},
     "output_type": "execute_result"
    }
   ],
   "source": [
    "y_pred"
   ]
  },
  {
   "cell_type": "code",
   "execution_count": 18,
   "metadata": {},
   "outputs": [],
   "source": [
    "from sklearn.metrics import accuracy_score"
   ]
  },
  {
   "cell_type": "code",
   "execution_count": 19,
   "metadata": {},
   "outputs": [
    {
     "data": {
      "text/plain": [
       "0.9555555555555556"
      ]
     },
     "execution_count": 19,
     "metadata": {},
     "output_type": "execute_result"
    }
   ],
   "source": [
    "accuracy_score(y_test, y_pred)"
   ]
  },
  {
   "cell_type": "markdown",
   "metadata": {},
   "source": [
    "# Decision Trees"
   ]
  },
  {
   "cell_type": "code",
   "execution_count": 20,
   "metadata": {},
   "outputs": [],
   "source": [
    "from sklearn.tree import DecisionTreeClassifier"
   ]
  },
  {
   "cell_type": "code",
   "execution_count": 21,
   "metadata": {},
   "outputs": [],
   "source": [
    "dt = DecisionTreeClassifier()"
   ]
  },
  {
   "cell_type": "code",
   "execution_count": 22,
   "metadata": {},
   "outputs": [
    {
     "data": {
      "text/plain": [
       "DecisionTreeClassifier()"
      ]
     },
     "execution_count": 22,
     "metadata": {},
     "output_type": "execute_result"
    }
   ],
   "source": [
    "dt.fit(X_train, y_train)"
   ]
  },
  {
   "cell_type": "code",
   "execution_count": 23,
   "metadata": {},
   "outputs": [],
   "source": [
    "y_pred = dt.predict(X_test)"
   ]
  },
  {
   "cell_type": "code",
   "execution_count": 24,
   "metadata": {},
   "outputs": [
    {
     "data": {
      "text/plain": [
       "0.9333333333333333"
      ]
     },
     "execution_count": 24,
     "metadata": {},
     "output_type": "execute_result"
    }
   ],
   "source": [
    "accuracy_score(y_test, y_pred)"
   ]
  },
  {
   "cell_type": "code",
   "execution_count": 25,
   "metadata": {},
   "outputs": [],
   "source": [
    "import graphviz\n",
    "from sklearn.tree import export_graphviz"
   ]
  },
  {
   "cell_type": "code",
   "execution_count": 26,
   "metadata": {},
   "outputs": [],
   "source": [
    "dot_data = export_graphviz(dt, out_file=None, \n",
    "                           feature_names=iris.feature_names, \n",
    "                           class_names=iris.target_names)"
   ]
  },
  {
   "cell_type": "code",
   "execution_count": 27,
   "metadata": {},
   "outputs": [],
   "source": [
    "graph = graphviz.Source(dot_data)"
   ]
  },
  {
   "cell_type": "code",
   "execution_count": 28,
   "metadata": {},
   "outputs": [
    {
     "data": {
      "image/svg+xml": [
       "<?xml version=\"1.0\" encoding=\"UTF-8\" standalone=\"no\"?>\n",
       "<!DOCTYPE svg PUBLIC \"-//W3C//DTD SVG 1.1//EN\"\n",
       " \"http://www.w3.org/Graphics/SVG/1.1/DTD/svg11.dtd\">\n",
       "<!-- Generated by graphviz version 2.44.1 (20200629.0846)\n",
       " -->\n",
       "<!-- Title: Tree Pages: 1 -->\n",
       "<svg width=\"623pt\" height=\"790pt\"\n",
       " viewBox=\"0.00 0.00 623.00 790.00\" xmlns=\"http://www.w3.org/2000/svg\" xmlns:xlink=\"http://www.w3.org/1999/xlink\">\n",
       "<g id=\"graph0\" class=\"graph\" transform=\"scale(1 1) rotate(0) translate(4 786)\">\n",
       "<title>Tree</title>\n",
       "<polygon fill=\"white\" stroke=\"transparent\" points=\"-4,4 -4,-786 619,-786 619,4 -4,4\"/>\n",
       "<!-- 0 -->\n",
       "<g id=\"node1\" class=\"node\">\n",
       "<title>0</title>\n",
       "<polygon fill=\"none\" stroke=\"black\" points=\"266,-782 111,-782 111,-699 266,-699 266,-782\"/>\n",
       "<text text-anchor=\"middle\" x=\"188.5\" y=\"-766.8\" font-family=\"Times,serif\" font-size=\"14.00\">petal width (cm) &lt;= 0.75</text>\n",
       "<text text-anchor=\"middle\" x=\"188.5\" y=\"-751.8\" font-family=\"Times,serif\" font-size=\"14.00\">gini = 0.667</text>\n",
       "<text text-anchor=\"middle\" x=\"188.5\" y=\"-736.8\" font-family=\"Times,serif\" font-size=\"14.00\">samples = 105</text>\n",
       "<text text-anchor=\"middle\" x=\"188.5\" y=\"-721.8\" font-family=\"Times,serif\" font-size=\"14.00\">value = [35, 35, 35]</text>\n",
       "<text text-anchor=\"middle\" x=\"188.5\" y=\"-706.8\" font-family=\"Times,serif\" font-size=\"14.00\">class = setosa</text>\n",
       "</g>\n",
       "<!-- 1 -->\n",
       "<g id=\"node2\" class=\"node\">\n",
       "<title>1</title>\n",
       "<polygon fill=\"none\" stroke=\"black\" points=\"169,-655.5 56,-655.5 56,-587.5 169,-587.5 169,-655.5\"/>\n",
       "<text text-anchor=\"middle\" x=\"112.5\" y=\"-640.3\" font-family=\"Times,serif\" font-size=\"14.00\">gini = 0.0</text>\n",
       "<text text-anchor=\"middle\" x=\"112.5\" y=\"-625.3\" font-family=\"Times,serif\" font-size=\"14.00\">samples = 35</text>\n",
       "<text text-anchor=\"middle\" x=\"112.5\" y=\"-610.3\" font-family=\"Times,serif\" font-size=\"14.00\">value = [35, 0, 0]</text>\n",
       "<text text-anchor=\"middle\" x=\"112.5\" y=\"-595.3\" font-family=\"Times,serif\" font-size=\"14.00\">class = setosa</text>\n",
       "</g>\n",
       "<!-- 0&#45;&gt;1 -->\n",
       "<g id=\"edge1\" class=\"edge\">\n",
       "<title>0&#45;&gt;1</title>\n",
       "<path fill=\"none\" stroke=\"black\" d=\"M162.13,-698.91C154.82,-687.65 146.87,-675.42 139.53,-664.11\"/>\n",
       "<polygon fill=\"black\" stroke=\"black\" points=\"142.43,-662.15 134.04,-655.67 136.56,-665.96 142.43,-662.15\"/>\n",
       "<text text-anchor=\"middle\" x=\"128.85\" y=\"-676.42\" font-family=\"Times,serif\" font-size=\"14.00\">True</text>\n",
       "</g>\n",
       "<!-- 2 -->\n",
       "<g id=\"node3\" class=\"node\">\n",
       "<title>2</title>\n",
       "<polygon fill=\"none\" stroke=\"black\" points=\"342,-663 187,-663 187,-580 342,-580 342,-663\"/>\n",
       "<text text-anchor=\"middle\" x=\"264.5\" y=\"-647.8\" font-family=\"Times,serif\" font-size=\"14.00\">petal width (cm) &lt;= 1.65</text>\n",
       "<text text-anchor=\"middle\" x=\"264.5\" y=\"-632.8\" font-family=\"Times,serif\" font-size=\"14.00\">gini = 0.5</text>\n",
       "<text text-anchor=\"middle\" x=\"264.5\" y=\"-617.8\" font-family=\"Times,serif\" font-size=\"14.00\">samples = 70</text>\n",
       "<text text-anchor=\"middle\" x=\"264.5\" y=\"-602.8\" font-family=\"Times,serif\" font-size=\"14.00\">value = [0, 35, 35]</text>\n",
       "<text text-anchor=\"middle\" x=\"264.5\" y=\"-587.8\" font-family=\"Times,serif\" font-size=\"14.00\">class = versicolor</text>\n",
       "</g>\n",
       "<!-- 0&#45;&gt;2 -->\n",
       "<g id=\"edge2\" class=\"edge\">\n",
       "<title>0&#45;&gt;2</title>\n",
       "<path fill=\"none\" stroke=\"black\" d=\"M214.87,-698.91C220.59,-690.1 226.69,-680.7 232.6,-671.61\"/>\n",
       "<polygon fill=\"black\" stroke=\"black\" points=\"235.67,-673.31 238.18,-663.02 229.8,-669.5 235.67,-673.31\"/>\n",
       "<text text-anchor=\"middle\" x=\"243.37\" y=\"-683.78\" font-family=\"Times,serif\" font-size=\"14.00\">False</text>\n",
       "</g>\n",
       "<!-- 3 -->\n",
       "<g id=\"node4\" class=\"node\">\n",
       "<title>3</title>\n",
       "<polygon fill=\"none\" stroke=\"black\" points=\"255.5,-544 97.5,-544 97.5,-461 255.5,-461 255.5,-544\"/>\n",
       "<text text-anchor=\"middle\" x=\"176.5\" y=\"-528.8\" font-family=\"Times,serif\" font-size=\"14.00\">petal length (cm) &lt;= 5.35</text>\n",
       "<text text-anchor=\"middle\" x=\"176.5\" y=\"-513.8\" font-family=\"Times,serif\" font-size=\"14.00\">gini = 0.057</text>\n",
       "<text text-anchor=\"middle\" x=\"176.5\" y=\"-498.8\" font-family=\"Times,serif\" font-size=\"14.00\">samples = 34</text>\n",
       "<text text-anchor=\"middle\" x=\"176.5\" y=\"-483.8\" font-family=\"Times,serif\" font-size=\"14.00\">value = [0, 33, 1]</text>\n",
       "<text text-anchor=\"middle\" x=\"176.5\" y=\"-468.8\" font-family=\"Times,serif\" font-size=\"14.00\">class = versicolor</text>\n",
       "</g>\n",
       "<!-- 2&#45;&gt;3 -->\n",
       "<g id=\"edge3\" class=\"edge\">\n",
       "<title>2&#45;&gt;3</title>\n",
       "<path fill=\"none\" stroke=\"black\" d=\"M233.97,-579.91C227.21,-570.92 219.98,-561.32 213.02,-552.05\"/>\n",
       "<polygon fill=\"black\" stroke=\"black\" points=\"215.79,-549.91 206.98,-544.02 210.19,-554.12 215.79,-549.91\"/>\n",
       "</g>\n",
       "<!-- 6 -->\n",
       "<g id=\"node7\" class=\"node\">\n",
       "<title>6</title>\n",
       "<polygon fill=\"none\" stroke=\"black\" points=\"431.5,-544 273.5,-544 273.5,-461 431.5,-461 431.5,-544\"/>\n",
       "<text text-anchor=\"middle\" x=\"352.5\" y=\"-528.8\" font-family=\"Times,serif\" font-size=\"14.00\">petal length (cm) &lt;= 5.05</text>\n",
       "<text text-anchor=\"middle\" x=\"352.5\" y=\"-513.8\" font-family=\"Times,serif\" font-size=\"14.00\">gini = 0.105</text>\n",
       "<text text-anchor=\"middle\" x=\"352.5\" y=\"-498.8\" font-family=\"Times,serif\" font-size=\"14.00\">samples = 36</text>\n",
       "<text text-anchor=\"middle\" x=\"352.5\" y=\"-483.8\" font-family=\"Times,serif\" font-size=\"14.00\">value = [0, 2, 34]</text>\n",
       "<text text-anchor=\"middle\" x=\"352.5\" y=\"-468.8\" font-family=\"Times,serif\" font-size=\"14.00\">class = virginica</text>\n",
       "</g>\n",
       "<!-- 2&#45;&gt;6 -->\n",
       "<g id=\"edge6\" class=\"edge\">\n",
       "<title>2&#45;&gt;6</title>\n",
       "<path fill=\"none\" stroke=\"black\" d=\"M295.03,-579.91C301.79,-570.92 309.02,-561.32 315.98,-552.05\"/>\n",
       "<polygon fill=\"black\" stroke=\"black\" points=\"318.81,-554.12 322.02,-544.02 313.21,-549.91 318.81,-554.12\"/>\n",
       "</g>\n",
       "<!-- 4 -->\n",
       "<g id=\"node5\" class=\"node\">\n",
       "<title>4</title>\n",
       "<polygon fill=\"none\" stroke=\"black\" points=\"113,-417.5 0,-417.5 0,-349.5 113,-349.5 113,-417.5\"/>\n",
       "<text text-anchor=\"middle\" x=\"56.5\" y=\"-402.3\" font-family=\"Times,serif\" font-size=\"14.00\">gini = 0.0</text>\n",
       "<text text-anchor=\"middle\" x=\"56.5\" y=\"-387.3\" font-family=\"Times,serif\" font-size=\"14.00\">samples = 33</text>\n",
       "<text text-anchor=\"middle\" x=\"56.5\" y=\"-372.3\" font-family=\"Times,serif\" font-size=\"14.00\">value = [0, 33, 0]</text>\n",
       "<text text-anchor=\"middle\" x=\"56.5\" y=\"-357.3\" font-family=\"Times,serif\" font-size=\"14.00\">class = versicolor</text>\n",
       "</g>\n",
       "<!-- 3&#45;&gt;4 -->\n",
       "<g id=\"edge4\" class=\"edge\">\n",
       "<title>3&#45;&gt;4</title>\n",
       "<path fill=\"none\" stroke=\"black\" d=\"M134.87,-460.91C122.87,-449.21 109.79,-436.46 97.81,-424.78\"/>\n",
       "<polygon fill=\"black\" stroke=\"black\" points=\"100.12,-422.14 90.52,-417.67 95.23,-427.15 100.12,-422.14\"/>\n",
       "</g>\n",
       "<!-- 5 -->\n",
       "<g id=\"node6\" class=\"node\">\n",
       "<title>5</title>\n",
       "<polygon fill=\"none\" stroke=\"black\" points=\"238,-417.5 131,-417.5 131,-349.5 238,-349.5 238,-417.5\"/>\n",
       "<text text-anchor=\"middle\" x=\"184.5\" y=\"-402.3\" font-family=\"Times,serif\" font-size=\"14.00\">gini = 0.0</text>\n",
       "<text text-anchor=\"middle\" x=\"184.5\" y=\"-387.3\" font-family=\"Times,serif\" font-size=\"14.00\">samples = 1</text>\n",
       "<text text-anchor=\"middle\" x=\"184.5\" y=\"-372.3\" font-family=\"Times,serif\" font-size=\"14.00\">value = [0, 0, 1]</text>\n",
       "<text text-anchor=\"middle\" x=\"184.5\" y=\"-357.3\" font-family=\"Times,serif\" font-size=\"14.00\">class = virginica</text>\n",
       "</g>\n",
       "<!-- 3&#45;&gt;5 -->\n",
       "<g id=\"edge5\" class=\"edge\">\n",
       "<title>3&#45;&gt;5</title>\n",
       "<path fill=\"none\" stroke=\"black\" d=\"M179.28,-460.91C180.01,-450.2 180.8,-438.62 181.54,-427.78\"/>\n",
       "<polygon fill=\"black\" stroke=\"black\" points=\"185.04,-427.88 182.23,-417.67 178.06,-427.4 185.04,-427.88\"/>\n",
       "</g>\n",
       "<!-- 7 -->\n",
       "<g id=\"node8\" class=\"node\">\n",
       "<title>7</title>\n",
       "<polygon fill=\"none\" stroke=\"black\" points=\"420.5,-425 270.5,-425 270.5,-342 420.5,-342 420.5,-425\"/>\n",
       "<text text-anchor=\"middle\" x=\"345.5\" y=\"-409.8\" font-family=\"Times,serif\" font-size=\"14.00\">sepal width (cm) &lt;= 2.9</text>\n",
       "<text text-anchor=\"middle\" x=\"345.5\" y=\"-394.8\" font-family=\"Times,serif\" font-size=\"14.00\">gini = 0.408</text>\n",
       "<text text-anchor=\"middle\" x=\"345.5\" y=\"-379.8\" font-family=\"Times,serif\" font-size=\"14.00\">samples = 7</text>\n",
       "<text text-anchor=\"middle\" x=\"345.5\" y=\"-364.8\" font-family=\"Times,serif\" font-size=\"14.00\">value = [0, 2, 5]</text>\n",
       "<text text-anchor=\"middle\" x=\"345.5\" y=\"-349.8\" font-family=\"Times,serif\" font-size=\"14.00\">class = virginica</text>\n",
       "</g>\n",
       "<!-- 6&#45;&gt;7 -->\n",
       "<g id=\"edge7\" class=\"edge\">\n",
       "<title>6&#45;&gt;7</title>\n",
       "<path fill=\"none\" stroke=\"black\" d=\"M350.07,-460.91C349.57,-452.56 349.04,-443.67 348.52,-435.02\"/>\n",
       "<polygon fill=\"black\" stroke=\"black\" points=\"352.02,-434.79 347.92,-425.02 345.03,-435.21 352.02,-434.79\"/>\n",
       "</g>\n",
       "<!-- 14 -->\n",
       "<g id=\"node15\" class=\"node\">\n",
       "<title>14</title>\n",
       "<polygon fill=\"none\" stroke=\"black\" points=\"552,-417.5 439,-417.5 439,-349.5 552,-349.5 552,-417.5\"/>\n",
       "<text text-anchor=\"middle\" x=\"495.5\" y=\"-402.3\" font-family=\"Times,serif\" font-size=\"14.00\">gini = 0.0</text>\n",
       "<text text-anchor=\"middle\" x=\"495.5\" y=\"-387.3\" font-family=\"Times,serif\" font-size=\"14.00\">samples = 29</text>\n",
       "<text text-anchor=\"middle\" x=\"495.5\" y=\"-372.3\" font-family=\"Times,serif\" font-size=\"14.00\">value = [0, 0, 29]</text>\n",
       "<text text-anchor=\"middle\" x=\"495.5\" y=\"-357.3\" font-family=\"Times,serif\" font-size=\"14.00\">class = virginica</text>\n",
       "</g>\n",
       "<!-- 6&#45;&gt;14 -->\n",
       "<g id=\"edge14\" class=\"edge\">\n",
       "<title>6&#45;&gt;14</title>\n",
       "<path fill=\"none\" stroke=\"black\" d=\"M402.11,-460.91C416.68,-448.99 432.59,-435.98 447.08,-424.12\"/>\n",
       "<polygon fill=\"black\" stroke=\"black\" points=\"449.44,-426.71 454.96,-417.67 445.01,-421.29 449.44,-426.71\"/>\n",
       "</g>\n",
       "<!-- 8 -->\n",
       "<g id=\"node9\" class=\"node\">\n",
       "<title>8</title>\n",
       "<polygon fill=\"none\" stroke=\"black\" points=\"325,-298.5 218,-298.5 218,-230.5 325,-230.5 325,-298.5\"/>\n",
       "<text text-anchor=\"middle\" x=\"271.5\" y=\"-283.3\" font-family=\"Times,serif\" font-size=\"14.00\">gini = 0.0</text>\n",
       "<text text-anchor=\"middle\" x=\"271.5\" y=\"-268.3\" font-family=\"Times,serif\" font-size=\"14.00\">samples = 4</text>\n",
       "<text text-anchor=\"middle\" x=\"271.5\" y=\"-253.3\" font-family=\"Times,serif\" font-size=\"14.00\">value = [0, 0, 4]</text>\n",
       "<text text-anchor=\"middle\" x=\"271.5\" y=\"-238.3\" font-family=\"Times,serif\" font-size=\"14.00\">class = virginica</text>\n",
       "</g>\n",
       "<!-- 7&#45;&gt;8 -->\n",
       "<g id=\"edge8\" class=\"edge\">\n",
       "<title>7&#45;&gt;8</title>\n",
       "<path fill=\"none\" stroke=\"black\" d=\"M319.83,-341.91C312.78,-330.76 305.12,-318.66 298.03,-307.44\"/>\n",
       "<polygon fill=\"black\" stroke=\"black\" points=\"300.78,-305.25 292.48,-298.67 294.86,-308.99 300.78,-305.25\"/>\n",
       "</g>\n",
       "<!-- 9 -->\n",
       "<g id=\"node10\" class=\"node\">\n",
       "<title>9</title>\n",
       "<polygon fill=\"none\" stroke=\"black\" points=\"496,-306 343,-306 343,-223 496,-223 496,-306\"/>\n",
       "<text text-anchor=\"middle\" x=\"419.5\" y=\"-290.8\" font-family=\"Times,serif\" font-size=\"14.00\">sepal length (cm) &lt;= 6.0</text>\n",
       "<text text-anchor=\"middle\" x=\"419.5\" y=\"-275.8\" font-family=\"Times,serif\" font-size=\"14.00\">gini = 0.444</text>\n",
       "<text text-anchor=\"middle\" x=\"419.5\" y=\"-260.8\" font-family=\"Times,serif\" font-size=\"14.00\">samples = 3</text>\n",
       "<text text-anchor=\"middle\" x=\"419.5\" y=\"-245.8\" font-family=\"Times,serif\" font-size=\"14.00\">value = [0, 2, 1]</text>\n",
       "<text text-anchor=\"middle\" x=\"419.5\" y=\"-230.8\" font-family=\"Times,serif\" font-size=\"14.00\">class = versicolor</text>\n",
       "</g>\n",
       "<!-- 7&#45;&gt;9 -->\n",
       "<g id=\"edge9\" class=\"edge\">\n",
       "<title>7&#45;&gt;9</title>\n",
       "<path fill=\"none\" stroke=\"black\" d=\"M371.17,-341.91C376.74,-333.1 382.69,-323.7 388.44,-314.61\"/>\n",
       "<polygon fill=\"black\" stroke=\"black\" points=\"391.48,-316.34 393.87,-306.02 385.57,-312.6 391.48,-316.34\"/>\n",
       "</g>\n",
       "<!-- 10 -->\n",
       "<g id=\"node11\" class=\"node\">\n",
       "<title>10</title>\n",
       "<polygon fill=\"none\" stroke=\"black\" points=\"400,-179.5 287,-179.5 287,-111.5 400,-111.5 400,-179.5\"/>\n",
       "<text text-anchor=\"middle\" x=\"343.5\" y=\"-164.3\" font-family=\"Times,serif\" font-size=\"14.00\">gini = 0.0</text>\n",
       "<text text-anchor=\"middle\" x=\"343.5\" y=\"-149.3\" font-family=\"Times,serif\" font-size=\"14.00\">samples = 1</text>\n",
       "<text text-anchor=\"middle\" x=\"343.5\" y=\"-134.3\" font-family=\"Times,serif\" font-size=\"14.00\">value = [0, 1, 0]</text>\n",
       "<text text-anchor=\"middle\" x=\"343.5\" y=\"-119.3\" font-family=\"Times,serif\" font-size=\"14.00\">class = versicolor</text>\n",
       "</g>\n",
       "<!-- 9&#45;&gt;10 -->\n",
       "<g id=\"edge10\" class=\"edge\">\n",
       "<title>9&#45;&gt;10</title>\n",
       "<path fill=\"none\" stroke=\"black\" d=\"M393.13,-222.91C385.82,-211.65 377.87,-199.42 370.53,-188.11\"/>\n",
       "<polygon fill=\"black\" stroke=\"black\" points=\"373.43,-186.15 365.04,-179.67 367.56,-189.96 373.43,-186.15\"/>\n",
       "</g>\n",
       "<!-- 11 -->\n",
       "<g id=\"node12\" class=\"node\">\n",
       "<title>11</title>\n",
       "<polygon fill=\"none\" stroke=\"black\" points=\"571,-187 418,-187 418,-104 571,-104 571,-187\"/>\n",
       "<text text-anchor=\"middle\" x=\"494.5\" y=\"-171.8\" font-family=\"Times,serif\" font-size=\"14.00\">sepal length (cm) &lt;= 6.4</text>\n",
       "<text text-anchor=\"middle\" x=\"494.5\" y=\"-156.8\" font-family=\"Times,serif\" font-size=\"14.00\">gini = 0.5</text>\n",
       "<text text-anchor=\"middle\" x=\"494.5\" y=\"-141.8\" font-family=\"Times,serif\" font-size=\"14.00\">samples = 2</text>\n",
       "<text text-anchor=\"middle\" x=\"494.5\" y=\"-126.8\" font-family=\"Times,serif\" font-size=\"14.00\">value = [0, 1, 1]</text>\n",
       "<text text-anchor=\"middle\" x=\"494.5\" y=\"-111.8\" font-family=\"Times,serif\" font-size=\"14.00\">class = versicolor</text>\n",
       "</g>\n",
       "<!-- 9&#45;&gt;11 -->\n",
       "<g id=\"edge11\" class=\"edge\">\n",
       "<title>9&#45;&gt;11</title>\n",
       "<path fill=\"none\" stroke=\"black\" d=\"M445.52,-222.91C451.16,-214.1 457.19,-204.7 463.02,-195.61\"/>\n",
       "<polygon fill=\"black\" stroke=\"black\" points=\"466.07,-197.33 468.53,-187.02 460.18,-193.55 466.07,-197.33\"/>\n",
       "</g>\n",
       "<!-- 12 -->\n",
       "<g id=\"node13\" class=\"node\">\n",
       "<title>12</title>\n",
       "<polygon fill=\"none\" stroke=\"black\" points=\"484,-68 377,-68 377,0 484,0 484,-68\"/>\n",
       "<text text-anchor=\"middle\" x=\"430.5\" y=\"-52.8\" font-family=\"Times,serif\" font-size=\"14.00\">gini = 0.0</text>\n",
       "<text text-anchor=\"middle\" x=\"430.5\" y=\"-37.8\" font-family=\"Times,serif\" font-size=\"14.00\">samples = 1</text>\n",
       "<text text-anchor=\"middle\" x=\"430.5\" y=\"-22.8\" font-family=\"Times,serif\" font-size=\"14.00\">value = [0, 0, 1]</text>\n",
       "<text text-anchor=\"middle\" x=\"430.5\" y=\"-7.8\" font-family=\"Times,serif\" font-size=\"14.00\">class = virginica</text>\n",
       "</g>\n",
       "<!-- 11&#45;&gt;12 -->\n",
       "<g id=\"edge12\" class=\"edge\">\n",
       "<title>11&#45;&gt;12</title>\n",
       "<path fill=\"none\" stroke=\"black\" d=\"M470.67,-103.73C465.6,-95.06 460.25,-85.9 455.15,-77.18\"/>\n",
       "<polygon fill=\"black\" stroke=\"black\" points=\"458.03,-75.17 449.96,-68.3 451.99,-78.7 458.03,-75.17\"/>\n",
       "</g>\n",
       "<!-- 13 -->\n",
       "<g id=\"node14\" class=\"node\">\n",
       "<title>13</title>\n",
       "<polygon fill=\"none\" stroke=\"black\" points=\"615,-68 502,-68 502,0 615,0 615,-68\"/>\n",
       "<text text-anchor=\"middle\" x=\"558.5\" y=\"-52.8\" font-family=\"Times,serif\" font-size=\"14.00\">gini = 0.0</text>\n",
       "<text text-anchor=\"middle\" x=\"558.5\" y=\"-37.8\" font-family=\"Times,serif\" font-size=\"14.00\">samples = 1</text>\n",
       "<text text-anchor=\"middle\" x=\"558.5\" y=\"-22.8\" font-family=\"Times,serif\" font-size=\"14.00\">value = [0, 1, 0]</text>\n",
       "<text text-anchor=\"middle\" x=\"558.5\" y=\"-7.8\" font-family=\"Times,serif\" font-size=\"14.00\">class = versicolor</text>\n",
       "</g>\n",
       "<!-- 11&#45;&gt;13 -->\n",
       "<g id=\"edge13\" class=\"edge\">\n",
       "<title>11&#45;&gt;13</title>\n",
       "<path fill=\"none\" stroke=\"black\" d=\"M518.33,-103.73C523.4,-95.06 528.75,-85.9 533.85,-77.18\"/>\n",
       "<polygon fill=\"black\" stroke=\"black\" points=\"537.01,-78.7 539.04,-68.3 530.97,-75.17 537.01,-78.7\"/>\n",
       "</g>\n",
       "</g>\n",
       "</svg>\n"
      ],
      "text/plain": [
       "<graphviz.files.Source at 0x12df9bee0>"
      ]
     },
     "execution_count": 28,
     "metadata": {},
     "output_type": "execute_result"
    }
   ],
   "source": [
    "graph"
   ]
  },
  {
   "cell_type": "markdown",
   "metadata": {},
   "source": [
    "# k-Nearest Neighbors"
   ]
  },
  {
   "cell_type": "code",
   "execution_count": 29,
   "metadata": {},
   "outputs": [],
   "source": [
    "from sklearn.neighbors import KNeighborsClassifier"
   ]
  },
  {
   "cell_type": "code",
   "execution_count": 30,
   "metadata": {},
   "outputs": [],
   "source": [
    "neigh = KNeighborsClassifier(n_neighbors=5, metric='minkowski', p=2)"
   ]
  },
  {
   "cell_type": "code",
   "execution_count": 31,
   "metadata": {},
   "outputs": [
    {
     "data": {
      "text/plain": [
       "KNeighborsClassifier()"
      ]
     },
     "execution_count": 31,
     "metadata": {},
     "output_type": "execute_result"
    }
   ],
   "source": [
    "neigh.fit(X_train, y_train)"
   ]
  },
  {
   "cell_type": "code",
   "execution_count": 32,
   "metadata": {},
   "outputs": [],
   "source": [
    "y_pred = neigh.predict(X_test)"
   ]
  },
  {
   "cell_type": "code",
   "execution_count": 33,
   "metadata": {},
   "outputs": [
    {
     "data": {
      "text/plain": [
       "0.9777777777777777"
      ]
     },
     "execution_count": 33,
     "metadata": {},
     "output_type": "execute_result"
    }
   ],
   "source": [
    "accuracy_score(y_test, y_pred)"
   ]
  },
  {
   "cell_type": "markdown",
   "metadata": {},
   "source": [
    "# Support Vector Machines"
   ]
  },
  {
   "cell_type": "code",
   "execution_count": 34,
   "metadata": {},
   "outputs": [],
   "source": [
    "from sklearn.svm import SVC"
   ]
  },
  {
   "cell_type": "code",
   "execution_count": 35,
   "metadata": {},
   "outputs": [],
   "source": [
    "svc = SVC(kernel=\"linear\")"
   ]
  },
  {
   "cell_type": "code",
   "execution_count": 36,
   "metadata": {},
   "outputs": [
    {
     "data": {
      "text/plain": [
       "SVC(kernel='linear')"
      ]
     },
     "execution_count": 36,
     "metadata": {},
     "output_type": "execute_result"
    }
   ],
   "source": [
    "svc.fit(X_train, y_train)"
   ]
  },
  {
   "cell_type": "code",
   "execution_count": 37,
   "metadata": {},
   "outputs": [],
   "source": [
    "y_pred = svc.predict(X_test)"
   ]
  },
  {
   "cell_type": "code",
   "execution_count": 38,
   "metadata": {},
   "outputs": [
    {
     "data": {
      "text/plain": [
       "0.9777777777777777"
      ]
     },
     "execution_count": 38,
     "metadata": {},
     "output_type": "execute_result"
    }
   ],
   "source": [
    "accuracy_score(y_test, y_pred)"
   ]
  },
  {
   "cell_type": "code",
   "execution_count": 39,
   "metadata": {},
   "outputs": [],
   "source": [
    "# A simple function to visualize decision boundaries\n",
    "x_min, x_max = iris.data[:, 0].min()-1, iris.data[:, 0].max()+1\n",
    "y_min, y_max = iris.data[:, 1].min()-1, iris.data[:, 1].max()+1"
   ]
  },
  {
   "cell_type": "code",
   "execution_count": 40,
   "metadata": {},
   "outputs": [],
   "source": [
    "import numpy as np\n",
    "import matplotlib.pyplot as plt"
   ]
  },
  {
   "cell_type": "code",
   "execution_count": 41,
   "metadata": {},
   "outputs": [],
   "source": [
    "# precit and reshape\n",
    "svc_linear = SVC(kernel=\"linear\").fit(iris.data[:,0:2], iris.target)\n",
    "svc_poly = SVC(kernel=\"poly\").fit(iris.data[:,0:2], iris.target)\n",
    "svc_rbf = SVC(kernel=\"rbf\").fit(iris.data[:,0:2], iris.target)"
   ]
  },
  {
   "cell_type": "markdown",
   "metadata": {},
   "source": [
    "## Before Visualization"
   ]
  },
  {
   "cell_type": "code",
   "execution_count": 42,
   "metadata": {},
   "outputs": [],
   "source": [
    "x = np.arange(-5, 5, 0.1)\n",
    "y = np.arange(-5, 5, 0.2)"
   ]
  },
  {
   "cell_type": "code",
   "execution_count": 43,
   "metadata": {},
   "outputs": [
    {
     "data": {
      "text/plain": [
       "array([-5.00000000e+00, -4.90000000e+00, -4.80000000e+00, -4.70000000e+00,\n",
       "       -4.60000000e+00, -4.50000000e+00, -4.40000000e+00, -4.30000000e+00,\n",
       "       -4.20000000e+00, -4.10000000e+00, -4.00000000e+00, -3.90000000e+00,\n",
       "       -3.80000000e+00, -3.70000000e+00, -3.60000000e+00, -3.50000000e+00,\n",
       "       -3.40000000e+00, -3.30000000e+00, -3.20000000e+00, -3.10000000e+00,\n",
       "       -3.00000000e+00, -2.90000000e+00, -2.80000000e+00, -2.70000000e+00,\n",
       "       -2.60000000e+00, -2.50000000e+00, -2.40000000e+00, -2.30000000e+00,\n",
       "       -2.20000000e+00, -2.10000000e+00, -2.00000000e+00, -1.90000000e+00,\n",
       "       -1.80000000e+00, -1.70000000e+00, -1.60000000e+00, -1.50000000e+00,\n",
       "       -1.40000000e+00, -1.30000000e+00, -1.20000000e+00, -1.10000000e+00,\n",
       "       -1.00000000e+00, -9.00000000e-01, -8.00000000e-01, -7.00000000e-01,\n",
       "       -6.00000000e-01, -5.00000000e-01, -4.00000000e-01, -3.00000000e-01,\n",
       "       -2.00000000e-01, -1.00000000e-01, -1.77635684e-14,  1.00000000e-01,\n",
       "        2.00000000e-01,  3.00000000e-01,  4.00000000e-01,  5.00000000e-01,\n",
       "        6.00000000e-01,  7.00000000e-01,  8.00000000e-01,  9.00000000e-01,\n",
       "        1.00000000e+00,  1.10000000e+00,  1.20000000e+00,  1.30000000e+00,\n",
       "        1.40000000e+00,  1.50000000e+00,  1.60000000e+00,  1.70000000e+00,\n",
       "        1.80000000e+00,  1.90000000e+00,  2.00000000e+00,  2.10000000e+00,\n",
       "        2.20000000e+00,  2.30000000e+00,  2.40000000e+00,  2.50000000e+00,\n",
       "        2.60000000e+00,  2.70000000e+00,  2.80000000e+00,  2.90000000e+00,\n",
       "        3.00000000e+00,  3.10000000e+00,  3.20000000e+00,  3.30000000e+00,\n",
       "        3.40000000e+00,  3.50000000e+00,  3.60000000e+00,  3.70000000e+00,\n",
       "        3.80000000e+00,  3.90000000e+00,  4.00000000e+00,  4.10000000e+00,\n",
       "        4.20000000e+00,  4.30000000e+00,  4.40000000e+00,  4.50000000e+00,\n",
       "        4.60000000e+00,  4.70000000e+00,  4.80000000e+00,  4.90000000e+00])"
      ]
     },
     "execution_count": 43,
     "metadata": {},
     "output_type": "execute_result"
    }
   ],
   "source": [
    "x"
   ]
  },
  {
   "cell_type": "code",
   "execution_count": 44,
   "metadata": {},
   "outputs": [
    {
     "data": {
      "text/plain": [
       "array([-5.0000000e+00, -4.8000000e+00, -4.6000000e+00, -4.4000000e+00,\n",
       "       -4.2000000e+00, -4.0000000e+00, -3.8000000e+00, -3.6000000e+00,\n",
       "       -3.4000000e+00, -3.2000000e+00, -3.0000000e+00, -2.8000000e+00,\n",
       "       -2.6000000e+00, -2.4000000e+00, -2.2000000e+00, -2.0000000e+00,\n",
       "       -1.8000000e+00, -1.6000000e+00, -1.4000000e+00, -1.2000000e+00,\n",
       "       -1.0000000e+00, -8.0000000e-01, -6.0000000e-01, -4.0000000e-01,\n",
       "       -2.0000000e-01,  4.4408921e-15,  2.0000000e-01,  4.0000000e-01,\n",
       "        6.0000000e-01,  8.0000000e-01,  1.0000000e+00,  1.2000000e+00,\n",
       "        1.4000000e+00,  1.6000000e+00,  1.8000000e+00,  2.0000000e+00,\n",
       "        2.2000000e+00,  2.4000000e+00,  2.6000000e+00,  2.8000000e+00,\n",
       "        3.0000000e+00,  3.2000000e+00,  3.4000000e+00,  3.6000000e+00,\n",
       "        3.8000000e+00,  4.0000000e+00,  4.2000000e+00,  4.4000000e+00,\n",
       "        4.6000000e+00,  4.8000000e+00])"
      ]
     },
     "execution_count": 44,
     "metadata": {},
     "output_type": "execute_result"
    }
   ],
   "source": [
    "y"
   ]
  },
  {
   "cell_type": "code",
   "execution_count": 45,
   "metadata": {},
   "outputs": [],
   "source": [
    "xx, yy = np.meshgrid(x, y)"
   ]
  },
  {
   "cell_type": "code",
   "execution_count": 46,
   "metadata": {},
   "outputs": [
    {
     "data": {
      "text/plain": [
       "array([[-5. , -4.9, -4.8, ...,  4.7,  4.8,  4.9],\n",
       "       [-5. , -4.9, -4.8, ...,  4.7,  4.8,  4.9],\n",
       "       [-5. , -4.9, -4.8, ...,  4.7,  4.8,  4.9],\n",
       "       ...,\n",
       "       [-5. , -4.9, -4.8, ...,  4.7,  4.8,  4.9],\n",
       "       [-5. , -4.9, -4.8, ...,  4.7,  4.8,  4.9],\n",
       "       [-5. , -4.9, -4.8, ...,  4.7,  4.8,  4.9]])"
      ]
     },
     "execution_count": 46,
     "metadata": {},
     "output_type": "execute_result"
    }
   ],
   "source": [
    "xx"
   ]
  },
  {
   "cell_type": "code",
   "execution_count": 47,
   "metadata": {},
   "outputs": [
    {
     "data": {
      "text/plain": [
       "array([[-5. , -5. , -5. , ..., -5. , -5. , -5. ],\n",
       "       [-4.8, -4.8, -4.8, ..., -4.8, -4.8, -4.8],\n",
       "       [-4.6, -4.6, -4.6, ..., -4.6, -4.6, -4.6],\n",
       "       ...,\n",
       "       [ 4.4,  4.4,  4.4, ...,  4.4,  4.4,  4.4],\n",
       "       [ 4.6,  4.6,  4.6, ...,  4.6,  4.6,  4.6],\n",
       "       [ 4.8,  4.8,  4.8, ...,  4.8,  4.8,  4.8]])"
      ]
     },
     "execution_count": 47,
     "metadata": {},
     "output_type": "execute_result"
    }
   ],
   "source": [
    "yy"
   ]
  },
  {
   "cell_type": "code",
   "execution_count": 48,
   "metadata": {},
   "outputs": [
    {
     "data": {
      "text/plain": [
       "array([-5. , -4.9, -4.8, ...,  4.7,  4.8,  4.9])"
      ]
     },
     "execution_count": 48,
     "metadata": {},
     "output_type": "execute_result"
    }
   ],
   "source": [
    "xx.ravel()"
   ]
  },
  {
   "cell_type": "code",
   "execution_count": 49,
   "metadata": {},
   "outputs": [
    {
     "data": {
      "text/plain": [
       "array([-5. , -5. , -5. , ...,  4.8,  4.8,  4.8])"
      ]
     },
     "execution_count": 49,
     "metadata": {},
     "output_type": "execute_result"
    }
   ],
   "source": [
    "yy.ravel()"
   ]
  },
  {
   "cell_type": "code",
   "execution_count": 50,
   "metadata": {},
   "outputs": [],
   "source": [
    "cxy = np.c_[xx.ravel(), yy.ravel()]"
   ]
  },
  {
   "cell_type": "code",
   "execution_count": 51,
   "metadata": {},
   "outputs": [
    {
     "data": {
      "text/plain": [
       "5000"
      ]
     },
     "execution_count": 51,
     "metadata": {},
     "output_type": "execute_result"
    }
   ],
   "source": [
    "len(cxy)"
   ]
  },
  {
   "cell_type": "code",
   "execution_count": 52,
   "metadata": {},
   "outputs": [
    {
     "data": {
      "text/plain": [
       "(array([-5., -5.]), array([-0.1, -5. ]))"
      ]
     },
     "execution_count": 52,
     "metadata": {},
     "output_type": "execute_result"
    }
   ],
   "source": [
    "cxy[0], cxy[49]"
   ]
  },
  {
   "cell_type": "code",
   "execution_count": 53,
   "metadata": {},
   "outputs": [],
   "source": [
    "zz = np.sin(xx**2 + yy**2) / (xx**2 + yy**2)"
   ]
  },
  {
   "cell_type": "code",
   "execution_count": 54,
   "metadata": {},
   "outputs": [
    {
     "data": {
      "image/png": "[encoded data removed]",
      "text/plain": [
       "<Figure size 360x360 with 1 Axes>"
      ]
     },
     "metadata": {
      "needs_background": "light"
     },
     "output_type": "display_data"
    }
   ],
   "source": [
    "plt.figure(figsize=(5, 5))\n",
    "plt.contour(xx, yy, zz)\n",
    "#plt.contourf(xx, yy, zz)\n",
    "plt.show()"
   ]
  },
  {
   "cell_type": "markdown",
   "metadata": {},
   "source": [
    "### Visualizaiton of SVM"
   ]
  },
  {
   "cell_type": "code",
   "execution_count": 55,
   "metadata": {},
   "outputs": [],
   "source": [
    "def vis_svc(svc):\n",
    "    # Return coordinate matrices from coordinate vectors\n",
    "    xx, yy = np.meshgrid(np.arange(x_min, x_max, 0.01), \n",
    "                         np.arange(y_min, y_max, 0.01))\n",
    "    Z = svc.predict(np.c_[xx.ravel(), yy.ravel()])\n",
    "    Z = Z.reshape(xx.shape)\n",
    "    plt.figure(figsize=(5, 5))\n",
    "    # plot contour\n",
    "    plt.contourf(xx, yy, Z, cmap=plt.cm.coolwarm)\n",
    "    # plot training points\n",
    "    plt.scatter(iris.data[:, 0], iris.data[:, 1], \n",
    "                c=iris.target, \n",
    "                cmap=plt.cm.coolwarm)\n",
    "    plt.xlabel('sepal length')\n",
    "    plt.ylabel('sepal width')"
   ]
  },
  {
   "cell_type": "code",
   "execution_count": 56,
   "metadata": {},
   "outputs": [
    {
     "data": {
      "image/png": "[encoded data removed]",
      "text/plain": [
       "<Figure size 360x360 with 1 Axes>"
      ]
     },
     "metadata": {
      "needs_background": "light"
     },
     "output_type": "display_data"
    }
   ],
   "source": [
    "vis_svc(svc_linear)"
   ]
  },
  {
   "cell_type": "code",
   "execution_count": 57,
   "metadata": {},
   "outputs": [
    {
     "data": {
      "image/png": "[encoded data removed]",
      "text/plain": [
       "<Figure size 360x360 with 1 Axes>"
      ]
     },
     "metadata": {
      "needs_background": "light"
     },
     "output_type": "display_data"
    }
   ],
   "source": [
    "vis_svc(svc_poly)"
   ]
  },
  {
   "cell_type": "code",
   "execution_count": 58,
   "metadata": {},
   "outputs": [
    {
     "data": {
      "image/png": "[encoded data removed]",
      "text/plain": [
       "<Figure size 360x360 with 1 Axes>"
      ]
     },
     "metadata": {
      "needs_background": "light"
     },
     "output_type": "display_data"
    }
   ],
   "source": [
    "vis_svc(svc_rbf)"
   ]
  }
 ],
 "metadata": {
  "kernelspec": {
   "display_name": "Python 3",
   "language": "python",
   "name": "python3"
  },
  "language_info": {
   "codemirror_mode": {
    "name": "ipython",
    "version": 3
   },
   "file_extension": ".py",
   "mimetype": "text/x-python",
   "name": "python",
   "nbconvert_exporter": "python",
   "pygments_lexer": "ipython3",
   "version": "3.9.1"
  }
 },
 "nbformat": 4,
 "nbformat_minor": 2
}
